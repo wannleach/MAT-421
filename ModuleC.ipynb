{
  "nbformat": 4,
  "nbformat_minor": 0,
  "metadata": {
    "colab": {
      "provenance": [],
      "authorship_tag": "ABX9TyME2iPjrGoqWQGzGCKDHJ/I",
      "include_colab_link": true
    },
    "kernelspec": {
      "name": "python3",
      "display_name": "Python 3"
    },
    "language_info": {
      "name": "python"
    }
  },
  "cells": [
    {
      "cell_type": "markdown",
      "metadata": {
        "id": "view-in-github",
        "colab_type": "text"
      },
      "source": [
        "<a href=\"https://colab.research.google.com/github/wannleach/MAT-421/blob/main/ModuleC.ipynb\" target=\"_parent\"><img src=\"https://colab.research.google.com/assets/colab-badge.svg\" alt=\"Open In Colab\"/></a>"
      ]
    },
    {
      "cell_type": "markdown",
      "source": [
        "**Chapter 19: Root Finding**"
      ],
      "metadata": {
        "id": "Dk4EX50D9u8H"
      }
    },
    {
      "cell_type": "markdown",
      "source": [
        "*19.1: Root Finding Problem Statement*"
      ],
      "metadata": {
        "id": "wyvSygJK90sX"
      }
    },
    {
      "cell_type": "markdown",
      "source": [
        "In mathematics, finding the root (i.e. the value of x at which y=0 for a function) can be done either analytically or by approximation. Certain functions, however, prove difficult to solve by hand to find an exact solution and thus must be estimated. As shown below, the x-value for the function $f(x) = sin(x) - x$ is approximated for its root closest to $x=-8$ then verified to indeed solve for zero when plugged back into the function."
      ],
      "metadata": {
        "id": "7A5M7GKd97om"
      }
    },
    {
      "cell_type": "code",
      "source": [
        "import numpy as np\n",
        "from scipy import optimize\n",
        "\n",
        "f = lambda x: np.sin(x) - x # function to evaluate\n",
        "r = optimize.fsolve(f, -8) # approximate root near x=-8\n",
        "print(\"r =\", r)\n",
        "\n",
        "# Verify the solution is a root by plugging the calculated value into the function\n",
        "result = f(r)\n",
        "print(\"result=\", result)"
      ],
      "metadata": {
        "colab": {
          "base_uri": "https://localhost:8080/"
        },
        "id": "qXxesjP998f3",
        "outputId": "a16ddbe1-f885-4720-ebd0-88bc74b2bedc"
      },
      "execution_count": null,
      "outputs": [
        {
          "output_type": "stream",
          "name": "stdout",
          "text": [
            "r = [-1.57829487e-08]\n",
            "result= [0.]\n"
          ]
        }
      ]
    },
    {
      "cell_type": "markdown",
      "source": [
        "However, this method will fail for functions with no real roots. For example, the function $f(x) = x^2 + 2$ has no x-values such that $f(x)=0$. Below, the computer cycles through so many iterations to reach some approximation, but this approximation is not verified to be a root, as the result of plugging our \"root\" back into the original function yields $result = 2.00000095 \\neq 0$. The computer prints out an error regarding the failure of the iterations to solve for this value, acknowleding this result is not accurate. "
      ],
      "metadata": {
        "id": "iZEOoEckC93_"
      }
    },
    {
      "cell_type": "code",
      "source": [
        "import numpy as np\n",
        "from scipy import optimize\n",
        "\n",
        "f = lambda x: x**2 + 2 # function to evaluate\n",
        "r = optimize.fsolve(f, -1) # approximate root near x=-1\n",
        "print(\"r =\", r)\n",
        "\n",
        "# Verify the solution is a root by plugging the calculated value into the function\n",
        "result = f(r)\n",
        "print(\"result=\", result)"
      ],
      "metadata": {
        "colab": {
          "base_uri": "https://localhost:8080/"
        },
        "id": "9cz1m2BeDGGs",
        "outputId": "d829c216-cc76-46bd-cbb2-7cfb1187e44f"
      },
      "execution_count": null,
      "outputs": [
        {
          "output_type": "stream",
          "name": "stdout",
          "text": [
            "r = [-0.00097656]\n",
            "result= [2.00000095]\n"
          ]
        },
        {
          "output_type": "stream",
          "name": "stderr",
          "text": [
            "/usr/local/lib/python3.8/dist-packages/scipy/optimize/minpack.py:175: RuntimeWarning: The iteration is not making good progress, as measured by the \n",
            "  improvement from the last ten iterations.\n",
            "  warnings.warn(msg, RuntimeWarning)\n"
          ]
        }
      ]
    },
    {
      "cell_type": "markdown",
      "source": [
        "*19.2: Tolerance*"
      ],
      "metadata": {
        "id": "2ueM_VTF99Uc"
      }
    },
    {
      "cell_type": "markdown",
      "source": [
        "As previously shown, functions do not always yield a desired root value, especially when considering the allotted precision a computer has to calculate values. However, as sometimes we still desire to find a value close to what this \"desired root\" could be, we can allow the computer a certain acceptable degree of error with which to find an accurate estimate. This degree of error is referred to as *tolerance*. In the following example, a quadratic function with no real root is first evaluated without tolerance, then with tolerance to yield an acceptable root."
      ],
      "metadata": {
        "id": "NZFf89tp-A_w"
      }
    },
    {
      "cell_type": "code",
      "source": [
        "import numpy as np\n",
        "from scipy import optimize\n",
        "\n",
        "# original calculation w/o tolerance\n",
        "f1 = lambda x: x**2 + 2 # function to evaluate\n",
        "r1 = optimize.fsolve(f1, -1) # approximate root near x=-1\n",
        "\n",
        "# calculation with tolerance\n",
        "tol = 2 # tolerance; acceptable amount of error\n",
        "f2 = lambda x: x**2 + 2 - tol # function\n",
        "r2 = optimize.fsolve(f2, -1) # estimate root\n",
        "\n",
        "# deciding if result 1 is within accepted tolerance level\n",
        "if (np.absolute(f1(r1)) < tol):\n",
        "  print(\"root with tolerance = \", r1)\n",
        "else:\n",
        "  print(\"root r1 = \" + str(r1) + \" is not within acceptable tolerance\")\n",
        "\n",
        "# deciding if result 2 is within accepted tolerance level\n",
        "if (np.absolute(f2(r2)) < tol):\n",
        "  print(\"root with tolerance = \", r2)\n",
        "else:\n",
        "  print(\"root r2 is not within acceptable tolerance\")\n"
      ],
      "metadata": {
        "colab": {
          "base_uri": "https://localhost:8080/"
        },
        "id": "wli_Vyyp-BI8",
        "outputId": "b2af40bc-4dcb-482c-80dc-ccb488f6b0d4"
      },
      "execution_count": null,
      "outputs": [
        {
          "output_type": "stream",
          "name": "stdout",
          "text": [
            "root r1 = [-0.00097656] is not within acceptable tolerance\n",
            "root with tolerance =  [-9.25035823e-09]\n"
          ]
        }
      ]
    },
    {
      "cell_type": "markdown",
      "source": [
        "*19.3: Bisection Method*"
      ],
      "metadata": {
        "id": "gMK7sCWA-BUt"
      }
    },
    {
      "cell_type": "markdown",
      "source": [
        "The Bisection Method is a technique used to estimate the root value of a function between two designated values $a$ and $b$. This method is based on the Intermediate Value Theorm (IVT), which (intuitively) states that for a continuous function, if there are two outputs that map to opposite sign values (i.e. one is positive and one is negative) then there must exist a value between the two that equates to zero. The following function $my\\_bisection$ uses IVT to estimate roots within a given tolerance level.First $a$ and $b$ are checked to have opposing signs to ensure a root exists between them. Next, the value of the midpoint between $a$ and $b$ is calculated for future evaluation using IVT. Then, for as long as the midpoint value falls outside of the accepted tolerance, the midpoint is continuously calculated to find the root, recursively using the previous midpoint as one of the bounds.\n",
        "\n",
        "\n",
        "Below, the root between $x=0,2$ for the function $f(x) = sin(x) - cos(x)$ is approximated using the function $my\\_bisection$ first with a tolerance level of $f(x) < 0.1$, then with $f(x) < 0.01$. With a lower tolerance for error, the second root found is more precise than the first. Because of this, when plugged back into the original function, the second estimated root is much closer to zero than the first."
      ],
      "metadata": {
        "id": "oynUJEYM-FI7"
      }
    },
    {
      "cell_type": "code",
      "source": [
        "import numpy as np\n",
        "\n",
        "# recursive function to approximate a root bounded by two points a and b within an alloted tolerance\n",
        "def my_bisection(f, a, b, tol): \n",
        "    # approximates a root, R, of f bounded \n",
        "    # by a and b to within tolerance \n",
        "    # | f(m) | < tol with m the midpoint \n",
        "    # between a and b Recursive implementation\n",
        "    \n",
        "    # check if a and b bound a root\n",
        "    if np.sign(f(a)) == np.sign(f(b)):\n",
        "        raise Exception(\n",
        "         \"The scalars a and b do not bound a root\")\n",
        "        \n",
        "    # get the midpoint\n",
        "    m = (a + b)/2\n",
        "    \n",
        "    # find the approximated root w/in the tolerance\n",
        "    if np.abs(f(m)) < tol:\n",
        "        # stopping condition, report m as root\n",
        "        return m\n",
        "    elif np.sign(f(a)) == np.sign(f(m)):\n",
        "        # case where m is an improvement on a. \n",
        "        # Make recursive call with a = m\n",
        "        return my_bisection(f, m, b, tol)\n",
        "    elif np.sign(f(b)) == np.sign(f(m)):\n",
        "        # case where m is an improvement on b. \n",
        "        # Make recursive call with b = m\n",
        "        return my_bisection(f, a, m, tol)\n",
        "\n",
        "f = lambda x: np.sin(x) - np.cos(x)\n",
        "\n",
        "# find root between x=0,2 with a tolerance level of f(x) < 0.1\n",
        "r1 = my_bisection(f, 0, 2, 0.1)\n",
        "print(\"r1 =\", r1)\n",
        "\n",
        "# find root between x=0,2 with a tolerance level of f(x) < 0.01\n",
        "r01 = my_bisection(f, 0, 2, 0.01)\n",
        "print(\"r01 =\", r01)\n",
        "\n",
        "print(\"f(r1) =\", f(r1))\n",
        "print(\"f(r01) =\", f(r01))"
      ],
      "metadata": {
        "colab": {
          "base_uri": "https://localhost:8080/"
        },
        "id": "tE2A54Ub-FR4",
        "outputId": "b3cbed2e-c3e3-4fb2-a8fb-81bcb76c4b53"
      },
      "execution_count": null,
      "outputs": [
        {
          "output_type": "stream",
          "name": "stdout",
          "text": [
            "r1 = 0.75\n",
            "r01 = 0.78125\n",
            "f(r1) = -0.050050108850486774\n",
            "f(r01) = -0.005866372111545948\n"
          ]
        }
      ]
    },
    {
      "cell_type": "markdown",
      "source": [
        "*19.4: Newton-Raphson Method*"
      ],
      "metadata": {
        "id": "5F9vumT9-FaM"
      }
    },
    {
      "cell_type": "markdown",
      "source": [
        "The Newton-Raphson method utlizes tangent lines to make approximations of roots. Starting with a random value $x$ as our root \"guess\", we look for what function value the $x$-estimate yields and find the tangent line for that point on the function graph (so long as the function is continuous). The $x$-intercept for this line is then found, i.e. the root of this line to estimate the root of the overall function, which has been brought much closer to the actual value. Thus, the equation for the value of the derivative at a certain point on the function graph can be used to estimate the function's roots by treating it as a linear approximation.\n",
        "\n",
        "\n",
        "Below, the original estimate of $x=1.4$ is compared to the accuracy of the new estimate using the newton-raphson method. As expected, the newton-raphson approximation is much closer to the actual root value than the original random guess."
      ],
      "metadata": {
        "id": "AyfktPst-KK8"
      }
    },
    {
      "cell_type": "code",
      "source": [
        "import numpy as np\n",
        "\n",
        "# newton-raphson method\n",
        "f = lambda x: np.sin(x) - np.cos(x) # function to evaluate\n",
        "f_prime = lambda x: np.cos(x) + np.sin(x) + f(1.4) # new function to estimate\n",
        "newton_raphson = 1.4 - (f(1.4))/(f_prime(1.4)) # new estimate of root given an intitial estimate of x=1.4\n",
        "\n",
        "print(\"original root estimate = 1.4\")\n",
        "print(\"newton_raphson root estimate =\", newton_raphson) # new guess\n",
        "print(\"f(1.4) =\", f(1.4)) # original guess proximity\n",
        "print(\"f(newton_raphson) = \", f(newton_raphson)) # check of proximity to real root"
      ],
      "metadata": {
        "colab": {
          "base_uri": "https://localhost:8080/"
        },
        "id": "ZNiwTyBl-KR5",
        "outputId": "6b071746-64ae-4a82-bcb9-ebe0704d297c"
      },
      "execution_count": 50,
      "outputs": [
        {
          "output_type": "stream",
          "name": "stdout",
          "text": [
            "original root estimate = 1.4\n",
            "newton_raphson root estimate = 0.9862383629159\n",
            "f(1.4) = 0.8154825870882191\n",
            "f(newton_raphson) =  0.282125298963106\n"
          ]
        }
      ]
    },
    {
      "cell_type": "markdown",
      "source": [
        "*19.5: Root Finding in Python*"
      ],
      "metadata": {
        "id": "IF8Lxqwc-KYq"
      }
    },
    {
      "cell_type": "markdown",
      "source": [
        "The Python library *scipy* has a built-in function *f-solve* to estimate the root of a function to a higher degree of accuracy than the previously mentioned techniques. This function takes in a number of parameters, including the function and the starting estimate, to use Jacobian approximation to compute the root(s) value(s)."
      ],
      "metadata": {
        "id": "sZjbA48M-O_k"
      }
    },
    {
      "cell_type": "code",
      "source": [
        "from scipy.optimize import fsolve\n",
        "import numpy as np\n",
        "\n",
        "f = lambda x: np.cos(x) - np.sin(x) # function\n",
        "\n",
        "fsolve(f, [2, 80]) # fsolve for the root(s) of f starting starting between estimates of 2 and 80"
      ],
      "metadata": {
        "id": "RzKC29ct-PMF",
        "colab": {
          "base_uri": "https://localhost:8080/"
        },
        "outputId": "065157c5-7848-4af4-d6aa-9fab699d2750"
      },
      "execution_count": 51,
      "outputs": [
        {
          "output_type": "execute_result",
          "data": {
            "text/plain": [
              "array([ 0.78539816, 79.3252145 ])"
            ]
          },
          "metadata": {},
          "execution_count": 51
        }
      ]
    }
  ]
}