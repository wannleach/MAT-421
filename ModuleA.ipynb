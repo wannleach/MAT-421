{
  "nbformat": 4,
  "nbformat_minor": 0,
  "metadata": {
    "colab": {
      "provenance": [],
      "authorship_tag": "ABX9TyPzKTRSkgLc/UkajA5F/q1l",
      "include_colab_link": true
    },
    "kernelspec": {
      "name": "python3",
      "display_name": "Python 3"
    },
    "language_info": {
      "name": "python"
    }
  },
  "cells": [
    {
      "cell_type": "markdown",
      "metadata": {
        "id": "view-in-github",
        "colab_type": "text"
      },
      "source": [
        "<a href=\"https://colab.research.google.com/github/wannleach/MAT-421/blob/main/ModuleA.ipynb\" target=\"_parent\"><img src=\"https://colab.research.google.com/assets/colab-badge.svg\" alt=\"Open In Colab\"/></a>"
      ]
    },
    {
      "cell_type": "markdown",
      "source": [
        "**Chapter 9 - Representation of Numbers**"
      ],
      "metadata": {
        "id": "IekBZSRyP7Ui"
      }
    },
    {
      "cell_type": "markdown",
      "source": [
        "*9.1 - Base-N and Binary*"
      ],
      "metadata": {
        "id": "UhIKqMjxQH3d"
      }
    },
    {
      "cell_type": "markdown",
      "source": [
        "In traditional math, a system called base10 is used to describe numbers, meaning the numbers 0-9 are used to represent different values. For computers, the base2 system is used to describe numbers, using the digits 0 and 1 to represent different values. This system is also known as the binary system. As these are still values, mathematical operations still apply to them.\n",
        "\n",
        "\n",
        "The following example demonstrates addition and multiplication in binary using base10 numbers 29 and 14. As the computer does all of its math in binary by default, the results are automatically converted back to base10 regardless of the values originally being represented in binary."
      ],
      "metadata": {
        "id": "AaHc5yi1QcQu"
      }
    },
    {
      "cell_type": "code",
      "source": [
        "# converting base10 numbers 29 and 14 to binary respectively\n",
        "print(\"29 in binary: \" + bin(29) + \", 14 in binary: \" + bin(14))\n",
        "\n",
        "# adding base10 numbers 29 and 14 in binary\n",
        "num29 = 0b11101\n",
        "num14 = 0b1110\n",
        "addbin = num29 + num14\n",
        "print(\"Binary Addition Result: \" + f\"{addbin}\")\n",
        "\n",
        "# multiplying base10 numbers 29 and 14 in binary\n",
        "multbin = num29*num14\n",
        "print(\"Binary Multiplication Result: \" + f\"{multbin}\")\n"
      ],
      "metadata": {
        "colab": {
          "base_uri": "https://localhost:8080/"
        },
        "id": "w2eqwXGiQmFL",
        "outputId": "44293633-1da4-4a63-ab48-db932f8010ee"
      },
      "execution_count": 19,
      "outputs": [
        {
          "output_type": "stream",
          "name": "stdout",
          "text": [
            "29 in binary: 0b11101, 14 in binary: 0b1110\n",
            "Binary Addition Result: 43\n",
            "Binary Multiplication Result: 406\n"
          ]
        }
      ]
    },
    {
      "cell_type": "markdown",
      "source": [
        "*9.2 - Floating Point Numbers*"
      ],
      "metadata": {
        "id": "B_UQ8Ex4SPHw"
      }
    },
    {
      "cell_type": "markdown",
      "source": [
        "Each computer has a designated amount of binary (called *bits*) for its calculations, and separates each binary value into three sections to increase precision. These parts are the sign (postive vs negative value), the exponent (base 2), and the fraction (the coefficient of the exponent, i.e. the value).\n",
        "\n",
        "\n",
        "Most Python float values are in double precision (i.e. 64 total bits).\n",
        "The example below demonstrates this information:"
      ],
      "metadata": {
        "id": "0RD6LjtsSUCK"
      }
    },
    {
      "cell_type": "code",
      "source": [
        "import sys\n",
        "sys.float_info"
      ],
      "metadata": {
        "colab": {
          "base_uri": "https://localhost:8080/"
        },
        "id": "34v7U7BkSXEX",
        "outputId": "cc82b225-dc28-4d47-8bd9-b801b50b8f8e"
      },
      "execution_count": 20,
      "outputs": [
        {
          "output_type": "execute_result",
          "data": {
            "text/plain": [
              "sys.float_info(max=1.7976931348623157e+308, max_exp=1024, max_10_exp=308, min=2.2250738585072014e-308, min_exp=-1021, min_10_exp=-307, dig=15, mant_dig=53, epsilon=2.220446049250313e-16, radix=2, rounds=1)"
            ]
          },
          "metadata": {},
          "execution_count": 20
        }
      ]
    },
    {
      "cell_type": "markdown",
      "source": [
        "The analytic formula used to represent a float in double precision is given by $n=(-1)^s2^(e-1023)(1+f)$. As computers must eventually round-off their answers using formulas such as these, there is a given range (called a *gap*) where if a result falls within this range, the value will be rounded. \n",
        "\n",
        "\n",
        "The following example demonstrates this concept in Python: "
      ],
      "metadata": {
        "id": "FovIXyp9Sh7z"
      }
    },
    {
      "cell_type": "code",
      "source": [
        "import numpy as np\n",
        "\n",
        "# gap at 1e7\n",
        "np.spacing(1e5)\n",
        "\n",
        "# verifying that a value within the gap results in the same value\n",
        "1e5 == (1e5 + np.spacing(1e5/5))"
      ],
      "metadata": {
        "colab": {
          "base_uri": "https://localhost:8080/"
        },
        "id": "8LVS8hpasNQ7",
        "outputId": "e2d85782-16e0-4947-ef2d-f317118f403d"
      },
      "execution_count": 21,
      "outputs": [
        {
          "output_type": "execute_result",
          "data": {
            "text/plain": [
              "True"
            ]
          },
          "metadata": {},
          "execution_count": 21
        }
      ]
    },
    {
      "cell_type": "markdown",
      "source": [
        "When a computed float value falls outside of a computer's designated 64bit range given by the analytic formula above, the result is either \"overflow\" or \"underflow\", with \"overflow\" being equated to positive infinity and \"underflow\" being considered \"Not a Number\".\n",
        "\n",
        "\n",
        "The below example demonstrates \"underflow\" and \"overflow\" respectively:"
      ],
      "metadata": {
        "id": "DsXGPOjXs7Jo"
      }
    },
    {
      "cell_type": "code",
      "source": [
        "# underflow by exceeding the minimum exponent of 1074\n",
        "print(2**(-2000))\n",
        "\n",
        "# overflow by exceeding the maximum float value allowed by the system\n",
        "sys.float_info.max*sys.float_info.max\n"
      ],
      "metadata": {
        "colab": {
          "base_uri": "https://localhost:8080/"
        },
        "id": "bsOJ8zEPuM9I",
        "outputId": "edcec41d-80ee-4c40-8049-9f271eae7415"
      },
      "execution_count": 23,
      "outputs": [
        {
          "output_type": "stream",
          "name": "stdout",
          "text": [
            "0.0\n"
          ]
        },
        {
          "output_type": "execute_result",
          "data": {
            "text/plain": [
              "inf"
            ]
          },
          "metadata": {},
          "execution_count": 23
        }
      ]
    },
    {
      "cell_type": "markdown",
      "source": [
        "*9.3 - Round-Off Errors*"
      ],
      "metadata": {
        "id": "9j2r6aafSXVY"
      }
    },
    {
      "cell_type": "markdown",
      "source": [
        "As computers can only approximate floating-point values to a certain extent, values often cannot be calculated with infinite precision. The degrees to which a value is rounded by the computer are called the *round-off errors*. Repeatedly rounding-off values in calculations will often increase the amount to which the approximation diverges from its actual value, i.e. the error.\n",
        "\n",
        "\n",
        "The following example demonstrates how floating-point values are rounded by computers and how round-off error accumulates over time (using given textbook function):"
      ],
      "metadata": {
        "id": "f61gcYsDSbLN"
      }
    },
    {
      "cell_type": "code",
      "source": [
        "# how values are rounded; actual value is 0.4\n",
        "print(9.8 - 9.4)\n",
        "\n",
        "# how error accumulates\n",
        "9 + 4/5 - 4/5 # just one iteration results in correct answer\n",
        "\n",
        "def add_and_subtract(iterations):\n",
        "  result = 9\n",
        "  for i in range(iterations):\n",
        "    result += 4/5\n",
        "  for i in range(iterations):\n",
        "    result -= 4/5\n",
        "  return result\n",
        "\n",
        "print(add_and_subtract(2000)) # 2000 iterations skews answer"
      ],
      "metadata": {
        "colab": {
          "base_uri": "https://localhost:8080/"
        },
        "id": "qduvK47-SdLL",
        "outputId": "deefe7b1-152a-4fed-c52b-0da3c97753d1"
      },
      "execution_count": 35,
      "outputs": [
        {
          "output_type": "stream",
          "name": "stdout",
          "text": [
            "0.40000000000000036\n",
            "8.999999999999911\n"
          ]
        }
      ]
    }
  ]
}