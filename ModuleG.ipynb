{
  "nbformat": 4,
  "nbformat_minor": 0,
  "metadata": {
    "colab": {
      "provenance": [],
      "authorship_tag": "ABX9TyNthGcrvcPvQg+m8jZNx0Hq",
      "include_colab_link": true
    },
    "kernelspec": {
      "name": "python3",
      "display_name": "Python 3"
    },
    "language_info": {
      "name": "python"
    }
  },
  "cells": [
    {
      "cell_type": "markdown",
      "metadata": {
        "id": "view-in-github",
        "colab_type": "text"
      },
      "source": [
        "<a href=\"https://colab.research.google.com/github/wannleach/MAT-421/blob/main/ModuleG.ipynb\" target=\"_parent\"><img src=\"https://colab.research.google.com/assets/colab-badge.svg\" alt=\"Open In Colab\"/></a>"
      ]
    },
    {
      "cell_type": "markdown",
      "source": [
        "**Chapter 21: Numerical Integration**"
      ],
      "metadata": {
        "id": "32NQofEbFSWG"
      }
    },
    {
      "cell_type": "markdown",
      "source": [
        "*21.1: Numerical Integration Problem Statement*"
      ],
      "metadata": {
        "id": "V5scpi7MFY04"
      }
    },
    {
      "cell_type": "markdown",
      "source": [
        "Numerical integration, like many other mathematical methods, can be approximated to various accuracies depending on the technique used. On a basic level, integration is the summation of all possible values under a curve within a specified interval. In other words, the \"area\" under the curve. \n",
        "\n",
        "\n",
        "Riemann integrals estimate this value by partitioning an interval and creating rectangles with heights of the function values for each partition. Depending on where these rectangles are aligned (e.g. left, right, or center-aligned to the curve), the integral may be estimated to various degrees of accuracy. \n",
        "\n",
        "\n",
        "Likewise, trapezoids can be \"drawn\" underneath curves in the same fashion and estimate integrals to a similar degree of accuracy to midpoint estimations with Riemann integration. This is because the height of these trapezoids are essentially averaged between the heights of the trapezoid's endpoints.\n",
        "\n",
        "\n",
        "Below these concepts are illustrated numerically and graphically."
      ],
      "metadata": {
        "id": "JB-viQoUFdEc"
      }
    },
    {
      "cell_type": "markdown",
      "source": [
        "*21.2: Riemanns Integral*"
      ],
      "metadata": {
        "id": "3Z0-8Y1WFdbq"
      }
    },
    {
      "cell_type": "code",
      "source": [
        "import numpy as np\n",
        "import matplotlib.pyplot as plt\n",
        "\n",
        "# parameters for integral\n",
        "a = 1                         # left bound\n",
        "b = 4                         # right bound\n",
        "n = 11                        # partitions\n",
        "h = (b - a) / (n - 1)         # step-size\n",
        "x = np.linspace(a, b, n)      # x-values\n",
        "f = 5*x**2 - 8*x + 5          # function f values\n",
        "exact_value = 60              # exact value of integral\n",
        "\n",
        "# Left Riemann Integral Approx\n",
        "I_riemannL = h * sum(f[:n-1])\n",
        "err_riemannL = exact_value - I_riemannL\n",
        "\n",
        "# Right Riemann Integral Approx\n",
        "I_riemannR = h * sum(f[1::])\n",
        "err_riemannR = exact_value - I_riemannR\n",
        "\n",
        "# Midpoint Riemann Integral Approx\n",
        "I_mid = h * sum(((5*(x[:n-1])**2 - 8*(x[:n-1]) + 5) + (5*(x[1:])**2 - 8*(x[1:]) + 5)) / 2)\n",
        "err_mid = exact_value - I_mid\n",
        "\n",
        "# Printing the left-Riemann sum  & its accuracy\n",
        "print(\"Left Riemann Approx: \" + str(I_riemannL))\n",
        "print(\"Left Riemann Error: \" + str(err_riemannL))\n",
        "\n",
        "# Plotting the left-Riemann rectangles\n",
        "plt.figure();\n",
        "plt.plot(x, f, '-k');                                                                  # function curve\n",
        "plt.bar(x, f, label = 'left', width = h, alpha = 0.2, align = 'edge', edgecolor = 'b') # left-aligned riemann rectangles\n",
        "plt.show();\n",
        "\n",
        "# Printing the right-Riemann sum and its accuracy\n",
        "print(\"Right Riemann Approx: \" + str(I_riemannR))\n",
        "print(\"Right Riemann Error: \" + str(err_riemannR))\n",
        "\n",
        "# Plotting the right-Riemann rectangles\n",
        "plt.figure();\n",
        "plt.plot(x, f, '-k');                                                                    # function curve\n",
        "plt.bar(x, f, label = 'right', width = -h, alpha = 0.2, align = 'edge', edgecolor = 'r') # right-aligned riemann rectangles\n",
        "plt.show();\n",
        "\n",
        "# Printing the midpoint-Riemann sum and its accuracy\n",
        "print(\"Midpoint Riemann Approx: \" + str(I_mid))\n",
        "print(\"Midpoint Riemann Error: \" + str(err_mid))\n",
        "\n",
        "# Plotting the midpoint-Riemann rectangles\n",
        "plt.figure();\n",
        "plt.plot(x, f, '-k');                                                                      # function curve\n",
        "plt.bar(x, f, label = 'center', width = h, alpha = 0.2, align = 'center', edgecolor = 'm') # midpoint-aligned riemann rectangles\n",
        "plt.show();"
      ],
      "metadata": {
        "colab": {
          "base_uri": "https://localhost:8080/",
          "height": 865
        },
        "id": "QAMx5atXFgMS",
        "outputId": "dec60d05-ed70-44bf-cec7-4358b0369b6f"
      },
      "execution_count": 22,
      "outputs": [
        {
          "output_type": "stream",
          "name": "stdout",
          "text": [
            "Left Riemann Approx: 52.574999999999996\n",
            "Left Riemann Error: 7.425000000000004\n"
          ]
        },
        {
          "output_type": "display_data",
          "data": {
            "text/plain": [
              "<Figure size 432x288 with 1 Axes>"
            ],
            "image/png": "[encoded data removed]"
          },
          "metadata": {
            "needs_background": "light"
          }
        },
        {
          "output_type": "stream",
          "name": "stdout",
          "text": [
            "Right Riemann Approx: 67.875\n",
            "Right Riemann Error: -7.875\n"
          ]
        },
        {
          "output_type": "display_data",
          "data": {
            "text/plain": [
              "<Figure size 432x288 with 1 Axes>"
            ],
            "image/png": "[encoded data removed]"
          },
          "metadata": {
            "needs_background": "light"
          }
        },
        {
          "output_type": "stream",
          "name": "stdout",
          "text": [
            "Midpoint Riemann Approx: 60.224999999999994\n",
            "Midpoint Riemann Error: -0.22499999999999432\n"
          ]
        },
        {
          "output_type": "display_data",
          "data": {
            "text/plain": [
              "<Figure size 432x288 with 1 Axes>"
            ],
            "image/png": "[encoded data removed]"
          },
          "metadata": {
            "needs_background": "light"
          }
        }
      ]
    },
    {
      "cell_type": "markdown",
      "source": [
        "*21.3: Trapezoid Rule*"
      ],
      "metadata": {
        "id": "ko5c6Wl9FhC5"
      }
    },
    {
      "cell_type": "code",
      "source": [
        "import numpy as np\n",
        "\n",
        "# parameters for integral\n",
        "a = 1\n",
        "b = 4\n",
        "n = 11\n",
        "h = (b - a) / (n - 1)\n",
        "x = np.linspace(a, b, n)\n",
        "f = 5*x**2 - 8*x + 5\n",
        "exact_value = 60\n",
        "\n",
        "# Trapezoid Rule Integral Approx\n",
        "I_trap = (h/2)*(f[0] + 2 * sum(f[1:n-1]) + f[n-1])\n",
        "err_trap = exact_value - I_trap\n",
        "\n",
        "# Printing integral approximation & its accuracy\n",
        "print(\"Trapezoid Rule Approx: \" + str(I_trap))\n",
        "print(\"Trapezoid Rule Error: \" + str(err_trap))"
      ],
      "metadata": {
        "colab": {
          "base_uri": "https://localhost:8080/"
        },
        "id": "b44OIszCFnHz",
        "outputId": "bc115539-7e5d-4549-9122-b47c97c4bbd4"
      },
      "execution_count": 5,
      "outputs": [
        {
          "output_type": "stream",
          "name": "stdout",
          "text": [
            "Trapezoid Rule Approx: 60.224999999999994\n",
            "Trapezoid Rule Error: -0.22499999999999432\n"
          ]
        }
      ]
    }
  ]
}